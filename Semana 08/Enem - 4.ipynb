{
 "cells": [
  {
   "cell_type": "markdown",
   "metadata": {},
   "source": [
    "#### O desafio se tratava de predizer se um candidato do ENEM faz a prova apenas para treinar ou para entrar em uma universidade de fato. Temos duas bases de dados, uma em que há a aplicação do modelo de Random Forest para o treino da máquina e base de dados para teste, onde são aplicados os aprendizados com a base de treino."
   ]
  },
  {
   "cell_type": "markdown",
   "metadata": {},
   "source": [
    "#### Importação de biblitecas"
   ]
  },
  {
   "cell_type": "code",
   "execution_count": null,
   "metadata": {},
   "outputs": [],
   "source": [
    "import pandas as pd\n",
    "import numpy as np\n",
    "from sklearn.ensemble import RandomForestRegressor\n",
    "from sklearn.model_selection import train_test_split\n",
    "\n",
    "import warnings\n",
    "warnings.simplefilter(action = 'ignore', category = FutureWarning)"
   ]
  },
  {
   "cell_type": "markdown",
   "metadata": {},
   "source": [
    "#### Importação das bases de dados"
   ]
  },
  {
   "cell_type": "code",
   "execution_count": 35,
   "metadata": {},
   "outputs": [],
   "source": [
    "dftrain = pd.read_csv('train.csv')\n",
    "dftest = pd.read_csv('test.csv')"
   ]
  },
  {
   "cell_type": "markdown",
   "metadata": {},
   "source": [
    "#### Verificando correlações, positivas e negativas, em relação a variável alvo (IN_TREINEIRO)"
   ]
  },
  {
   "cell_type": "code",
   "execution_count": 36,
   "metadata": {},
   "outputs": [],
   "source": [
    "treineiro_correlation = pd.DataFrame(dftrain.corr()['IN_TREINEIRO'].sort_values(ascending = False))"
   ]
  },
  {
   "cell_type": "code",
   "execution_count": 37,
   "metadata": {},
   "outputs": [
    {
     "data": {
      "text/html": [
       "<div>\n",
       "<style scoped>\n",
       "    .dataframe tbody tr th:only-of-type {\n",
       "        vertical-align: middle;\n",
       "    }\n",
       "\n",
       "    .dataframe tbody tr th {\n",
       "        vertical-align: top;\n",
       "    }\n",
       "\n",
       "    .dataframe thead th {\n",
       "        text-align: right;\n",
       "    }\n",
       "</style>\n",
       "<table border=\"1\" class=\"dataframe\">\n",
       "  <thead>\n",
       "    <tr style=\"text-align: right;\">\n",
       "      <th></th>\n",
       "      <th>IN_TREINEIRO</th>\n",
       "    </tr>\n",
       "  </thead>\n",
       "  <tbody>\n",
       "    <tr>\n",
       "      <td>IN_TREINEIRO</td>\n",
       "      <td>1.000000</td>\n",
       "    </tr>\n",
       "    <tr>\n",
       "      <td>TP_ST_CONCLUSAO</td>\n",
       "      <td>0.533983</td>\n",
       "    </tr>\n",
       "    <tr>\n",
       "      <td>TP_PRESENCA_CN</td>\n",
       "      <td>0.094692</td>\n",
       "    </tr>\n",
       "    <tr>\n",
       "      <td>TP_PRESENCA_CH</td>\n",
       "      <td>0.094692</td>\n",
       "    </tr>\n",
       "    <tr>\n",
       "      <td>TP_PRESENCA_LC</td>\n",
       "      <td>0.092454</td>\n",
       "    </tr>\n",
       "    <tr>\n",
       "      <td>...</td>\n",
       "      <td>...</td>\n",
       "    </tr>\n",
       "    <tr>\n",
       "      <td>IN_SALA_INDIVIDUAL</td>\n",
       "      <td>NaN</td>\n",
       "    </tr>\n",
       "    <tr>\n",
       "      <td>IN_SALA_ACOMPANHANTE</td>\n",
       "      <td>NaN</td>\n",
       "    </tr>\n",
       "    <tr>\n",
       "      <td>IN_MOBILIARIO_ESPECIFICO</td>\n",
       "      <td>NaN</td>\n",
       "    </tr>\n",
       "    <tr>\n",
       "      <td>IN_MATERIAL_ESPECIFICO</td>\n",
       "      <td>NaN</td>\n",
       "    </tr>\n",
       "    <tr>\n",
       "      <td>CO_UF_ENTIDADE_CERTIFICACAO</td>\n",
       "      <td>NaN</td>\n",
       "    </tr>\n",
       "  </tbody>\n",
       "</table>\n",
       "<p>107 rows × 1 columns</p>\n",
       "</div>"
      ],
      "text/plain": [
       "                             IN_TREINEIRO\n",
       "IN_TREINEIRO                     1.000000\n",
       "TP_ST_CONCLUSAO                  0.533983\n",
       "TP_PRESENCA_CN                   0.094692\n",
       "TP_PRESENCA_CH                   0.094692\n",
       "TP_PRESENCA_LC                   0.092454\n",
       "...                                   ...\n",
       "IN_SALA_INDIVIDUAL                    NaN\n",
       "IN_SALA_ACOMPANHANTE                  NaN\n",
       "IN_MOBILIARIO_ESPECIFICO              NaN\n",
       "IN_MATERIAL_ESPECIFICO                NaN\n",
       "CO_UF_ENTIDADE_CERTIFICACAO           NaN\n",
       "\n",
       "[107 rows x 1 columns]"
      ]
     },
     "execution_count": 37,
     "metadata": {},
     "output_type": "execute_result"
    }
   ],
   "source": [
    "treineiro_correlation"
   ]
  },
  {
   "cell_type": "code",
   "execution_count": 38,
   "metadata": {},
   "outputs": [],
   "source": [
    "treineiro_correlation = pd.DataFrame(dftrain.corr()['IN_TREINEIRO'].sort_values(ascending = True))"
   ]
  },
  {
   "cell_type": "code",
   "execution_count": 39,
   "metadata": {},
   "outputs": [
    {
     "data": {
      "text/html": [
       "<div>\n",
       "<style scoped>\n",
       "    .dataframe tbody tr th:only-of-type {\n",
       "        vertical-align: middle;\n",
       "    }\n",
       "\n",
       "    .dataframe tbody tr th {\n",
       "        vertical-align: top;\n",
       "    }\n",
       "\n",
       "    .dataframe thead th {\n",
       "        text-align: right;\n",
       "    }\n",
       "</style>\n",
       "<table border=\"1\" class=\"dataframe\">\n",
       "  <thead>\n",
       "    <tr style=\"text-align: right;\">\n",
       "      <th></th>\n",
       "      <th>IN_TREINEIRO</th>\n",
       "    </tr>\n",
       "  </thead>\n",
       "  <tbody>\n",
       "    <tr>\n",
       "      <td>NU_IDADE</td>\n",
       "      <td>-0.295091</td>\n",
       "    </tr>\n",
       "    <tr>\n",
       "      <td>TP_ANO_CONCLUIU</td>\n",
       "      <td>-0.257710</td>\n",
       "    </tr>\n",
       "    <tr>\n",
       "      <td>TP_ESCOLA</td>\n",
       "      <td>-0.244562</td>\n",
       "    </tr>\n",
       "    <tr>\n",
       "      <td>IN_CERTIFICADO</td>\n",
       "      <td>-0.142185</td>\n",
       "    </tr>\n",
       "    <tr>\n",
       "      <td>TP_ESTADO_CIVIL</td>\n",
       "      <td>-0.117932</td>\n",
       "    </tr>\n",
       "    <tr>\n",
       "      <td>...</td>\n",
       "      <td>...</td>\n",
       "    </tr>\n",
       "    <tr>\n",
       "      <td>IN_SALA_INDIVIDUAL</td>\n",
       "      <td>NaN</td>\n",
       "    </tr>\n",
       "    <tr>\n",
       "      <td>IN_SALA_ACOMPANHANTE</td>\n",
       "      <td>NaN</td>\n",
       "    </tr>\n",
       "    <tr>\n",
       "      <td>IN_MOBILIARIO_ESPECIFICO</td>\n",
       "      <td>NaN</td>\n",
       "    </tr>\n",
       "    <tr>\n",
       "      <td>IN_MATERIAL_ESPECIFICO</td>\n",
       "      <td>NaN</td>\n",
       "    </tr>\n",
       "    <tr>\n",
       "      <td>CO_UF_ENTIDADE_CERTIFICACAO</td>\n",
       "      <td>NaN</td>\n",
       "    </tr>\n",
       "  </tbody>\n",
       "</table>\n",
       "<p>107 rows × 1 columns</p>\n",
       "</div>"
      ],
      "text/plain": [
       "                             IN_TREINEIRO\n",
       "NU_IDADE                        -0.295091\n",
       "TP_ANO_CONCLUIU                 -0.257710\n",
       "TP_ESCOLA                       -0.244562\n",
       "IN_CERTIFICADO                  -0.142185\n",
       "TP_ESTADO_CIVIL                 -0.117932\n",
       "...                                   ...\n",
       "IN_SALA_INDIVIDUAL                    NaN\n",
       "IN_SALA_ACOMPANHANTE                  NaN\n",
       "IN_MOBILIARIO_ESPECIFICO              NaN\n",
       "IN_MATERIAL_ESPECIFICO                NaN\n",
       "CO_UF_ENTIDADE_CERTIFICACAO           NaN\n",
       "\n",
       "[107 rows x 1 columns]"
      ]
     },
     "execution_count": 39,
     "metadata": {},
     "output_type": "execute_result"
    }
   ],
   "source": [
    "treineiro_correlation"
   ]
  },
  {
   "cell_type": "markdown",
   "metadata": {},
   "source": [
    "#### Foram utilzadas as features independentes TP_ST_CONCLUSAO, NU_IDADE, TP_ANO_CONCLUIU e TP_ESCOLA por terem maiores correlações"
   ]
  },
  {
   "cell_type": "markdown",
   "metadata": {},
   "source": [
    "#### à variável x, foram atribuídas as features independentes e à variável y, a variável alvo"
   ]
  },
  {
   "cell_type": "code",
   "execution_count": 40,
   "metadata": {},
   "outputs": [],
   "source": [
    "x = dftrain[['TP_ST_CONCLUSAO', 'NU_IDADE', 'TP_ANO_CONCLUIU', 'TP_ESCOLA']]\n",
    "y = dftrain['IN_TREINEIRO']"
   ]
  },
  {
   "cell_type": "markdown",
   "metadata": {},
   "source": [
    "#### Separação da base de treino em quantidades de treino e teste. Foi utilizado um valor de 1%, pois a base de dados será usada somente para treino, praticamente"
   ]
  },
  {
   "cell_type": "code",
   "execution_count": 41,
   "metadata": {},
   "outputs": [],
   "source": [
    "x_train, x_test, y_train, y_test = train_test_split(x, y, test_size = 0.01)"
   ]
  },
  {
   "cell_type": "markdown",
   "metadata": {},
   "source": [
    "#### Aplicação do modelo de Random Forest e 'Fit' dos dados"
   ]
  },
  {
   "cell_type": "code",
   "execution_count": 42,
   "metadata": {},
   "outputs": [
    {
     "data": {
      "text/plain": [
       "RandomForestRegressor(bootstrap=True, criterion='mse', max_depth=None,\n",
       "                      max_features='auto', max_leaf_nodes=None,\n",
       "                      min_impurity_decrease=0.0, min_impurity_split=None,\n",
       "                      min_samples_leaf=1, min_samples_split=2,\n",
       "                      min_weight_fraction_leaf=0.0, n_estimators=100,\n",
       "                      n_jobs=None, oob_score=False, random_state=None,\n",
       "                      verbose=0, warm_start=False)"
      ]
     },
     "execution_count": 42,
     "metadata": {},
     "output_type": "execute_result"
    }
   ],
   "source": [
    "random_forest = RandomForestRegressor(n_estimators = 100)\n",
    "random_forest.fit(x_train, y_train)"
   ]
  },
  {
   "cell_type": "markdown",
   "metadata": {},
   "source": [
    "#### Atribuindo à variável 'Xres' as features independes da base de teste"
   ]
  },
  {
   "cell_type": "code",
   "execution_count": 43,
   "metadata": {},
   "outputs": [],
   "source": [
    "Xres = dftest[['TP_ST_CONCLUSAO', 'NU_IDADE', 'TP_ANO_CONCLUIU', 'TP_ESCOLA']]"
   ]
  },
  {
   "cell_type": "markdown",
   "metadata": {},
   "source": [
    "#### Fazendo novamente o 'fit' dos dados"
   ]
  },
  {
   "cell_type": "code",
   "execution_count": 44,
   "metadata": {},
   "outputs": [
    {
     "data": {
      "text/plain": [
       "RandomForestRegressor(bootstrap=True, criterion='mse', max_depth=None,\n",
       "                      max_features='auto', max_leaf_nodes=None,\n",
       "                      min_impurity_decrease=0.0, min_impurity_split=None,\n",
       "                      min_samples_leaf=1, min_samples_split=2,\n",
       "                      min_weight_fraction_leaf=0.0, n_estimators=100,\n",
       "                      n_jobs=None, oob_score=False, random_state=None,\n",
       "                      verbose=0, warm_start=False)"
      ]
     },
     "execution_count": 44,
     "metadata": {},
     "output_type": "execute_result"
    }
   ],
   "source": [
    "random_forest = RandomForestRegressor(n_estimators = 100)\n",
    "random_forest.fit(x, y)"
   ]
  },
  {
   "cell_type": "markdown",
   "metadata": {},
   "source": [
    "#### Atribuindo à variável 'Yres' os valores preditos com base no aprendizado anterior e as features independentes da base de teste"
   ]
  },
  {
   "cell_type": "code",
   "execution_count": 45,
   "metadata": {},
   "outputs": [],
   "source": [
    "Yres = random_forest.predict(Xres)"
   ]
  },
  {
   "cell_type": "markdown",
   "metadata": {},
   "source": [
    "#### Arredondando os valores"
   ]
  },
  {
   "cell_type": "code",
   "execution_count": 46,
   "metadata": {},
   "outputs": [],
   "source": [
    "dftest['IN_TREINEIRO'] = np.around(Yres, 0)"
   ]
  },
  {
   "cell_type": "markdown",
   "metadata": {},
   "source": [
    "#### Atribuindo as predições e as incrições à base de dados de teste"
   ]
  },
  {
   "cell_type": "code",
   "execution_count": 47,
   "metadata": {},
   "outputs": [],
   "source": [
    "dftest = dftest[['NU_INSCRICAO','IN_TREINEIRO']]"
   ]
  },
  {
   "cell_type": "markdown",
   "metadata": {},
   "source": [
    "#### Transformando em um arquivo .csv"
   ]
  },
  {
   "cell_type": "code",
   "execution_count": 48,
   "metadata": {},
   "outputs": [],
   "source": [
    "dftest.to_csv('answer.csv', index=False)"
   ]
  }
 ],
 "metadata": {
  "kernelspec": {
   "display_name": "Python 3",
   "language": "python",
   "name": "python3"
  },
  "language_info": {
   "codemirror_mode": {
    "name": "ipython",
    "version": 3
   },
   "file_extension": ".py",
   "mimetype": "text/x-python",
   "name": "python",
   "nbconvert_exporter": "python",
   "pygments_lexer": "ipython3",
   "version": "3.7.4"
  }
 },
 "nbformat": 4,
 "nbformat_minor": 4
}
