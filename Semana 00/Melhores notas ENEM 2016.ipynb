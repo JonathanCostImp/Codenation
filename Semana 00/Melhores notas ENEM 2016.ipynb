{
 "cells": [
  {
   "cell_type": "code",
   "execution_count": 19,
   "metadata": {},
   "outputs": [],
   "source": [
    "import pandas as pd\n",
    "import matplotlib.pyplot as plt\n",
    "import numpy as np\n",
    "import scipy.stats as stats\n",
    "import sklearn\n",
    "import seaborn as sns\n",
    "import warnings\n",
    "from sklearn.metrics import mean_squared_error\n",
    "from sklearn import metrics\n",
    "warnings.filterwarnings('ignore')"
   ]
  },
  {
   "cell_type": "code",
   "execution_count": 20,
   "metadata": {},
   "outputs": [],
   "source": [
    "math_train = pd.read_csv('train.csv')"
   ]
  },
  {
   "cell_type": "code",
   "execution_count": 21,
   "metadata": {},
   "outputs": [],
   "source": [
    "from sklearn import preprocessing\n",
    "le = preprocessing.LabelEncoder()"
   ]
  },
  {
   "cell_type": "code",
   "execution_count": 22,
   "metadata": {},
   "outputs": [],
   "source": [
    "def generate_labelencoder(atts):\n",
    "    for attr in atts:\n",
    "        math_train[attr] = le.fit_transform(math_train[attr])\n",
    "    return math_train"
   ]
  },
  {
   "cell_type": "code",
   "execution_count": 23,
   "metadata": {},
   "outputs": [],
   "source": [
    "math_train = generate_labelencoder(['TP_SEXO', 'Q006', 'Q024', 'Q025', 'Q026', 'Q047'])"
   ]
  },
  {
   "cell_type": "code",
   "execution_count": 24,
   "metadata": {},
   "outputs": [],
   "source": [
    "math_train['TP_ENSINO'].fillna(int(math_train['TP_ENSINO'].mode()), inplace = True)\n",
    "math_train['TP_DEPENDENCIA_ADM_ESC'].fillna(int(math_train['TP_DEPENDENCIA_ADM_ESC'].mode()),inplace = True)\n",
    "math_train['TP_STATUS_REDACAO'].fillna(int((math_train['TP_STATUS_REDACAO']).mode()),inplace = True)\n",
    "\n",
    "math_train['NU_NOTA_CN'].fillna(np.mean(math_train['NU_NOTA_CN']),inplace = True)\n",
    "math_train['NU_NOTA_CH'].fillna(np.mean(math_train['NU_NOTA_CH']),inplace = True)\n",
    "math_train['NU_NOTA_LC'].fillna(np.mean(math_train['NU_NOTA_LC']),inplace = True)\n",
    "math_train['NU_NOTA_MT'].fillna(np.mean(math_train['NU_NOTA_MT']),inplace = True)\n",
    "math_train['NU_NOTA_REDACAO'].fillna(np.mean(math_train['NU_NOTA_REDACAO']),inplace = True)"
   ]
  },
  {
   "cell_type": "code",
   "execution_count": 25,
   "metadata": {},
   "outputs": [],
   "source": [
    "x = math_train[['NU_NOTA_CN','NU_NOTA_CH', 'NU_NOTA_LC', 'NU_NOTA_REDACAO','NU_IDADE','TP_ENSINO','TP_DEPENDENCIA_ADM_ESC','TP_STATUS_REDACAO', 'TP_COR_RACA', 'TP_NACIONALIDADE', 'TP_ST_CONCLUSAO', 'TP_ANO_CONCLUIU', 'TP_ESCOLA', 'IN_TREINEIRO', 'TP_PRESENCA_CN', 'TP_PRESENCA_CH', 'TP_PRESENCA_LC', 'TP_SEXO', 'Q006', 'Q024', 'Q025', 'Q026', 'Q047']]\n",
    "y = math_train['NU_NOTA_MT']"
   ]
  },
  {
   "cell_type": "code",
   "execution_count": 26,
   "metadata": {},
   "outputs": [],
   "source": [
    "from sklearn.model_selection import train_test_split\n",
    "x_train, x_test, y_train, y_test = train_test_split(x, y, test_size = 0.1)"
   ]
  },
  {
   "cell_type": "code",
   "execution_count": 27,
   "metadata": {},
   "outputs": [
    {
     "data": {
      "text/plain": [
       "LinearRegression(copy_X=True, fit_intercept=True, n_jobs=None, normalize=False)"
      ]
     },
     "execution_count": 27,
     "metadata": {},
     "output_type": "execute_result"
    }
   ],
   "source": [
    "from sklearn.linear_model import LinearRegression\n",
    "reglin = LinearRegression()\n",
    "reglin.fit(x_train, y_train)"
   ]
  },
  {
   "cell_type": "code",
   "execution_count": 28,
   "metadata": {},
   "outputs": [],
   "source": [
    "y_prev1 = reglin.predict(x_test)"
   ]
  },
  {
   "cell_type": "code",
   "execution_count": 29,
   "metadata": {},
   "outputs": [
    {
     "name": "stdout",
     "output_type": "stream",
     "text": [
      "64.4637409397477\n"
     ]
    }
   ],
   "source": [
    "#RMSE\n",
    "print(np.sqrt(metrics.mean_squared_error(y_test, y_prev1)))"
   ]
  },
  {
   "cell_type": "code",
   "execution_count": 30,
   "metadata": {},
   "outputs": [],
   "source": [
    "math_test = pd.read_csv('test.csv')"
   ]
  },
  {
   "cell_type": "code",
   "execution_count": 31,
   "metadata": {},
   "outputs": [],
   "source": [
    "math_test['TP_ENSINO'].fillna(int(math_test['TP_ENSINO'].mode()), inplace = True)\n",
    "math_test['TP_DEPENDENCIA_ADM_ESC'].fillna(int(math_test['TP_DEPENDENCIA_ADM_ESC'].mode()),inplace = True)\n",
    "\n",
    "math_test.update(math_test['NU_NOTA_CN'].fillna(0))\n",
    "math_test.update(math_test['NU_NOTA_CH'].fillna(0))\n",
    "math_test.update(math_test['NU_NOTA_LC'].fillna(0))\n",
    "math_test.update(math_test['NU_NOTA_REDACAO'].fillna(0))\n",
    "math_test.update(math_test['TP_STATUS_REDACAO'].fillna(0))"
   ]
  },
  {
   "cell_type": "code",
   "execution_count": 32,
   "metadata": {},
   "outputs": [],
   "source": [
    "def generate_labelencoder(atts):\n",
    "    for attr in atts:\n",
    "        math_test[attr] = le.fit_transform(math_test[attr])\n",
    "    return math_test"
   ]
  },
  {
   "cell_type": "code",
   "execution_count": 33,
   "metadata": {},
   "outputs": [],
   "source": [
    "math_test = generate_labelencoder(['TP_SEXO', 'Q006', 'Q024', 'Q025', 'Q026', 'Q047'])"
   ]
  },
  {
   "cell_type": "code",
   "execution_count": 34,
   "metadata": {
    "scrolled": true
   },
   "outputs": [],
   "source": [
    "features_train = ['NU_NOTA_CN','NU_NOTA_CH', 'NU_NOTA_LC', 'NU_NOTA_REDACAO','NU_IDADE','TP_ENSINO','TP_DEPENDENCIA_ADM_ESC','TP_STATUS_REDACAO', 'TP_COR_RACA', 'TP_NACIONALIDADE', 'TP_ST_CONCLUSAO', 'TP_ANO_CONCLUIU', 'TP_ESCOLA', 'IN_TREINEIRO', 'TP_PRESENCA_CN', 'TP_PRESENCA_CH', 'TP_PRESENCA_LC', 'TP_SEXO', 'Q006', 'Q024', 'Q025', 'Q026', 'Q047']\n",
    "math_test[features_train]\n",
    "y_prev2 = reglin.predict(math_test[features_train])\n",
    "math_test['NU_NOTA_MT'] = y_prev2"
   ]
  },
  {
   "cell_type": "code",
   "execution_count": 35,
   "metadata": {},
   "outputs": [],
   "source": [
    "answer = pd.DataFrame()\n",
    "answer ['NU_INSCRICAO'] = math_test.NU_INSCRICAO\n",
    "answer ['NU_NOTA_MT'] = y_prev2"
   ]
  },
  {
   "cell_type": "code",
   "execution_count": 36,
   "metadata": {},
   "outputs": [],
   "source": [
    "for nota in answer ['NU_NOTA_MT']:\n",
    "    if nota < 0:\n",
    "        answer['NU_NOTA_MT'] = answer['NU_NOTA_MT'].replace(nota, 0)"
   ]
  },
  {
   "cell_type": "code",
   "execution_count": 37,
   "metadata": {},
   "outputs": [],
   "source": [
    "#answer.to_csv('answer.csv', index = False)"
   ]
  },
  {
   "cell_type": "code",
   "execution_count": 38,
   "metadata": {},
   "outputs": [],
   "source": [
    "from sklearn.ensemble import RandomForestRegressor\n",
    "tree_rf = RandomForestRegressor()"
   ]
  },
  {
   "cell_type": "code",
   "execution_count": 39,
   "metadata": {},
   "outputs": [],
   "source": [
    "model_rf = tree_rf.fit(x_train, y_train)"
   ]
  },
  {
   "cell_type": "code",
   "execution_count": 40,
   "metadata": {},
   "outputs": [],
   "source": [
    "y_prev_rf1 = model_rf.predict(x_test)"
   ]
  },
  {
   "cell_type": "code",
   "execution_count": 41,
   "metadata": {},
   "outputs": [
    {
     "data": {
      "text/plain": [
       "3862.9724441832345"
      ]
     },
     "execution_count": 41,
     "metadata": {},
     "output_type": "execute_result"
    }
   ],
   "source": [
    "#MSE\n",
    "mean_squared_error(y_test, y_prev_rf1)"
   ]
  },
  {
   "cell_type": "code",
   "execution_count": 42,
   "metadata": {},
   "outputs": [
    {
     "data": {
      "text/plain": [
       "0.5027466173405635"
      ]
     },
     "execution_count": 42,
     "metadata": {},
     "output_type": "execute_result"
    }
   ],
   "source": [
    "#Score\n",
    "model_rf.score(x_test, y_test)"
   ]
  },
  {
   "cell_type": "code",
   "execution_count": 43,
   "metadata": {},
   "outputs": [],
   "source": [
    "y_prev_rf2 = model_rf.predict(math_test[features_train])\n",
    "math_test['NU_NOTA_MT'] = y_prev_rf2"
   ]
  },
  {
   "cell_type": "code",
   "execution_count": 44,
   "metadata": {},
   "outputs": [],
   "source": [
    "answer = pd.DataFrame()\n",
    "answer ['NU_INSCRICAO'] = math_test.NU_INSCRICAO\n",
    "answer ['NU_NOTA_MT'] = y_prev_rf2"
   ]
  },
  {
   "cell_type": "code",
   "execution_count": 45,
   "metadata": {},
   "outputs": [],
   "source": [
    "for nota in answer ['NU_NOTA_MT']:\n",
    "    if nota < 0:\n",
    "        answer['NU_NOTA_MT'] = answer['NU_NOTA_MT'].replace(nota, 0)"
   ]
  },
  {
   "cell_type": "code",
   "execution_count": 46,
   "metadata": {},
   "outputs": [],
   "source": [
    "answer.to_csv('answer.csv', index = False)"
   ]
  }
 ],
 "metadata": {
  "kernelspec": {
   "display_name": "Python 3",
   "language": "python",
   "name": "python3"
  },
  "language_info": {
   "codemirror_mode": {
    "name": "ipython",
    "version": 3
   },
   "file_extension": ".py",
   "mimetype": "text/x-python",
   "name": "python",
   "nbconvert_exporter": "python",
   "pygments_lexer": "ipython3",
   "version": "3.7.4"
  }
 },
 "nbformat": 4,
 "nbformat_minor": 4
}
