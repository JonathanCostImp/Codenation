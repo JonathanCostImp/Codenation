{
 "cells": [
  {
   "cell_type": "code",
   "execution_count": null,
   "metadata": {},
   "outputs": [],
   "source": [
    "dfp1 = pd.read_csv('estaticos_portfolio1.csv', index_col = 0)\n",
    "dfp2 = pd.read_csv('estaticos_portfolio2.csv', index_col = 0)\n",
    "dfp3 = pd.read_csv('estaticos_portfolio3.csv', index_col = 0)"
   ]
  },
  {
   "cell_type": "code",
   "execution_count": null,
   "metadata": {},
   "outputs": [],
   "source": [
    "dfp1.drop(colunas_para_tirar, axis = 1, inplace = True)"
   ]
  },
  {
   "cell_type": "code",
   "execution_count": null,
   "metadata": {},
   "outputs": [],
   "source": [
    "values_dfp1 = {'de_saude_rescencia': 'ACIMA DE 1 ANO', 'de_nivel_atividade': 'MEDIA', 'de_faixa_faturamento_estimado': 'DE R$ 81.000,01 A R$ 360.000,00', \n",
    "'de_faixa_faturamento_estimado_grupo': 'DE R$ 81.000,01 A R$ 360.000,00', 'qt_socios': round(dfp1['qt_socios'].mean(), 0), \n",
    "'qt_socios_pf': round(dfp1['qt_socios_pf'].mean(), 0), 'qt_socios_pj': round(dfp1['qt_socios_pj'].mean(), 0), \n",
    "'idade_media_socios': float(round(dfp1['idade_media_socios'].mode(), 0)), 'idade_maxima_socios': float(round(dfp1['idade_maxima_socios'].mode(), 0)), \n",
    "'idade_minima_socios': float(round(dfp1['idade_minima_socios'].mode(), 0)), 'qt_socios_st_regular': float(round(dfp1['qt_socios_st_regular'].mode(), 0)), \n",
    "'vl_faturamento_estimado_aux': float(round(dfp1['vl_faturamento_estimado_aux'].mode(), 0)),\n",
    "'vl_faturamento_estimado_grupo_aux': float(round(dfp1['vl_faturamento_estimado_grupo_aux'].mode(), 0))}"
   ]
  },
  {
   "cell_type": "code",
   "execution_count": null,
   "metadata": {},
   "outputs": [],
   "source": [
    "dfp1.dropna(subset = ['fl_optante_simples'], inplace = True)"
   ]
  },
  {
   "cell_type": "code",
   "execution_count": null,
   "metadata": {},
   "outputs": [],
   "source": [
    "dfp1.fillna(value = values_dfp1, inplace = True)"
   ]
  },
  {
   "cell_type": "code",
   "execution_count": null,
   "metadata": {},
   "outputs": [],
   "source": [
    "#values_dfem = {'setor': 'S/ setor', 'nm_divisao': 'S/ divisão', 'sg_uf_matriz': 'S/ registro', 'de_saude_rescencia': 'ACIMA DE 1 ANO', 'de_nivel_atividade': 'MEDIA',\n",
    "#         'de_faixa_faturamento_estimado': 'DE R$ 81.000,01 A R$ 360.000,00', 'de_faixa_faturamento_estimado_grupo': 'DE R$ 81.000,01 A R$ 360.000,00',\n",
    "#         'fl_spa': False, 'fl_antt': False, 'fl_veiculo': False, 'fl_simples_irregular': False, 'fl_passivel_iss': True, \n",
    "#         'vl_total_veiculos_pesados_grupo': round(dfem['vl_total_veiculos_pesados_grupo'].mean(), 0),\n",
    "#         'vl_total_veiculos_leves_grupo': round(dfem['vl_total_veiculos_leves_grupo'].mean(), 0),\n",
    "#         'qt_socios': round(dfem['qt_socios'].mean(), 0), 'qt_socios_pf': round(dfem['qt_socios_pf'].mean(), 0),\n",
    "#         'qt_socios_pj': round(dfem['qt_socios_pj'].mean(), 0), 'idade_media_socios': float(round(dfem['idade_media_socios'].mode(), 0)),\n",
    "#         'idade_maxima_socios': float(round(dfem['idade_maxima_socios'].mode(), 0)), 'idade_minima_socios': float(round(dfem['idade_minima_socios'].mode(), 0)),\n",
    "#         'qt_socios_st_regular': float(round(dfem['qt_socios_st_regular'].mode(), 0)), \n",
    "#         'vl_faturamento_estimado_aux': float(round(dfem['vl_faturamento_estimado_aux'].mode(), 0)),\n",
    "#         'vl_faturamento_estimado_grupo_aux': float(round(dfem['vl_faturamento_estimado_grupo_aux'].mode(), 0))}"
   ]
  },
  {
   "cell_type": "code",
   "execution_count": null,
   "metadata": {},
   "outputs": [],
   "source": [
    "#dfem.fillna(value = values_dfem, inplace = True)"
   ]
  }
 ],
 "metadata": {
  "kernelspec": {
   "display_name": "Python 3",
   "language": "python",
   "name": "python3"
  },
  "language_info": {
   "codemirror_mode": {
    "name": "ipython",
    "version": 3
   },
   "file_extension": ".py",
   "mimetype": "text/x-python",
   "name": "python",
   "nbconvert_exporter": "python",
   "pygments_lexer": "ipython3",
   "version": "3.7.4"
  }
 },
 "nbformat": 4,
 "nbformat_minor": 4
}
