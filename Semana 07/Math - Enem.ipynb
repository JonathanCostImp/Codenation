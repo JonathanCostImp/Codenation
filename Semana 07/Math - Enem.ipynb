{
 "cells": [
  {
   "cell_type": "markdown",
   "metadata": {},
   "source": [
    "#### Importação de bibliotecas"
   ]
  },
  {
   "cell_type": "code",
   "execution_count": 109,
   "metadata": {},
   "outputs": [],
   "source": [
    "import pandas as pd\n",
    "from sklearn.ensemble import RandomForestRegressor\n",
    "from sklearn.model_selection import train_test_split"
   ]
  },
  {
   "cell_type": "markdown",
   "metadata": {},
   "source": [
    "#### Importação das base de dados"
   ]
  },
  {
   "cell_type": "code",
   "execution_count": 110,
   "metadata": {},
   "outputs": [],
   "source": [
    "dftrain = pd.read_csv('train.csv')\n",
    "dftest = pd.read_csv('test.csv')"
   ]
  },
  {
   "cell_type": "markdown",
   "metadata": {},
   "source": [
    "#### Verificação das correlações com a variável alvo (variável alvo: NU_NOTA_MT - Nota de matemática)"
   ]
  },
  {
   "cell_type": "code",
   "execution_count": 129,
   "metadata": {},
   "outputs": [],
   "source": [
    "math_correlation = pd.DataFrame(dftrain.corr()['NU_NOTA_MT'].sort_values(ascending = False))"
   ]
  },
  {
   "cell_type": "code",
   "execution_count": 130,
   "metadata": {},
   "outputs": [
    {
     "data": {
      "text/html": [
       "<div>\n",
       "<style scoped>\n",
       "    .dataframe tbody tr th:only-of-type {\n",
       "        vertical-align: middle;\n",
       "    }\n",
       "\n",
       "    .dataframe tbody tr th {\n",
       "        vertical-align: top;\n",
       "    }\n",
       "\n",
       "    .dataframe thead th {\n",
       "        text-align: right;\n",
       "    }\n",
       "</style>\n",
       "<table border=\"1\" class=\"dataframe\">\n",
       "  <thead>\n",
       "    <tr style=\"text-align: right;\">\n",
       "      <th></th>\n",
       "      <th>NU_NOTA_MT</th>\n",
       "    </tr>\n",
       "  </thead>\n",
       "  <tbody>\n",
       "    <tr>\n",
       "      <td>NU_NOTA_MT</td>\n",
       "      <td>1.000000</td>\n",
       "    </tr>\n",
       "    <tr>\n",
       "      <td>NU_NOTA_CN</td>\n",
       "      <td>0.584941</td>\n",
       "    </tr>\n",
       "    <tr>\n",
       "      <td>NU_NOTA_CH</td>\n",
       "      <td>0.529594</td>\n",
       "    </tr>\n",
       "    <tr>\n",
       "      <td>NU_NOTA_LC</td>\n",
       "      <td>0.494695</td>\n",
       "    </tr>\n",
       "    <tr>\n",
       "      <td>NU_NOTA_REDACAO</td>\n",
       "      <td>0.379376</td>\n",
       "    </tr>\n",
       "    <tr>\n",
       "      <td>TP_DEPENDENCIA_ADM_ESC</td>\n",
       "      <td>0.373233</td>\n",
       "    </tr>\n",
       "    <tr>\n",
       "      <td>NU_NOTA_COMP3</td>\n",
       "      <td>0.350307</td>\n",
       "    </tr>\n",
       "    <tr>\n",
       "      <td>NU_NOTA_COMP5</td>\n",
       "      <td>0.343337</td>\n",
       "    </tr>\n",
       "    <tr>\n",
       "      <td>NU_NOTA_COMP4</td>\n",
       "      <td>0.342282</td>\n",
       "    </tr>\n",
       "    <tr>\n",
       "      <td>NU_NOTA_COMP2</td>\n",
       "      <td>0.335638</td>\n",
       "    </tr>\n",
       "  </tbody>\n",
       "</table>\n",
       "</div>"
      ],
      "text/plain": [
       "                        NU_NOTA_MT\n",
       "NU_NOTA_MT                1.000000\n",
       "NU_NOTA_CN                0.584941\n",
       "NU_NOTA_CH                0.529594\n",
       "NU_NOTA_LC                0.494695\n",
       "NU_NOTA_REDACAO           0.379376\n",
       "TP_DEPENDENCIA_ADM_ESC    0.373233\n",
       "NU_NOTA_COMP3             0.350307\n",
       "NU_NOTA_COMP5             0.343337\n",
       "NU_NOTA_COMP4             0.342282\n",
       "NU_NOTA_COMP2             0.335638"
      ]
     },
     "execution_count": 130,
     "metadata": {},
     "output_type": "execute_result"
    }
   ],
   "source": [
    "math_correlation.head(10)"
   ]
  },
  {
   "cell_type": "code",
   "execution_count": 131,
   "metadata": {},
   "outputs": [],
   "source": [
    "math_correlation = pd.DataFrame(dftrain.corr()['NU_NOTA_MT'].sort_values(ascending = True))"
   ]
  },
  {
   "cell_type": "code",
   "execution_count": 132,
   "metadata": {},
   "outputs": [
    {
     "data": {
      "text/html": [
       "<div>\n",
       "<style scoped>\n",
       "    .dataframe tbody tr th:only-of-type {\n",
       "        vertical-align: middle;\n",
       "    }\n",
       "\n",
       "    .dataframe tbody tr th {\n",
       "        vertical-align: top;\n",
       "    }\n",
       "\n",
       "    .dataframe thead th {\n",
       "        text-align: right;\n",
       "    }\n",
       "</style>\n",
       "<table border=\"1\" class=\"dataframe\">\n",
       "  <thead>\n",
       "    <tr style=\"text-align: right;\">\n",
       "      <th></th>\n",
       "      <th>NU_NOTA_MT</th>\n",
       "    </tr>\n",
       "  </thead>\n",
       "  <tbody>\n",
       "    <tr>\n",
       "      <td>Q037</td>\n",
       "      <td>-0.265249</td>\n",
       "    </tr>\n",
       "    <tr>\n",
       "      <td>Q038</td>\n",
       "      <td>-0.202259</td>\n",
       "    </tr>\n",
       "    <tr>\n",
       "      <td>TP_LINGUA</td>\n",
       "      <td>-0.201726</td>\n",
       "    </tr>\n",
       "    <tr>\n",
       "      <td>TP_COR_RACA</td>\n",
       "      <td>-0.157364</td>\n",
       "    </tr>\n",
       "    <tr>\n",
       "      <td>Q036</td>\n",
       "      <td>-0.145501</td>\n",
       "    </tr>\n",
       "    <tr>\n",
       "      <td>Q041</td>\n",
       "      <td>-0.131795</td>\n",
       "    </tr>\n",
       "    <tr>\n",
       "      <td>Q030</td>\n",
       "      <td>-0.127963</td>\n",
       "    </tr>\n",
       "    <tr>\n",
       "      <td>Q029</td>\n",
       "      <td>-0.124075</td>\n",
       "    </tr>\n",
       "    <tr>\n",
       "      <td>Q040</td>\n",
       "      <td>-0.119997</td>\n",
       "    </tr>\n",
       "    <tr>\n",
       "      <td>Q033</td>\n",
       "      <td>-0.114083</td>\n",
       "    </tr>\n",
       "  </tbody>\n",
       "</table>\n",
       "</div>"
      ],
      "text/plain": [
       "             NU_NOTA_MT\n",
       "Q037          -0.265249\n",
       "Q038          -0.202259\n",
       "TP_LINGUA     -0.201726\n",
       "TP_COR_RACA   -0.157364\n",
       "Q036          -0.145501\n",
       "Q041          -0.131795\n",
       "Q030          -0.127963\n",
       "Q029          -0.124075\n",
       "Q040          -0.119997\n",
       "Q033          -0.114083"
      ]
     },
     "execution_count": 132,
     "metadata": {},
     "output_type": "execute_result"
    }
   ],
   "source": [
    "math_correlation.head(10)"
   ]
  },
  {
   "cell_type": "markdown",
   "metadata": {},
   "source": [
    "##### Por comodidade, serão utilizadas as quatro primeiras variáveis com correlação positiva mais alta, já com tratamento dos dados faltantes:"
   ]
  },
  {
   "cell_type": "code",
   "execution_count": 115,
   "metadata": {},
   "outputs": [],
   "source": [
    "x = dftrain[['NU_NOTA_CN', 'NU_NOTA_CH', 'NU_NOTA_LC', 'NU_NOTA_REDACAO']].fillna(-1000)\n",
    "y = dftrain[['NU_NOTA_MT']].fillna(-1000)"
   ]
  },
  {
   "cell_type": "markdown",
   "metadata": {},
   "source": [
    "#### Separando os grupos de treino e de teste"
   ]
  },
  {
   "cell_type": "markdown",
   "metadata": {},
   "source": [
    "##### Foi utilizados um grupo de treino bem maior em relação ao de teste para se ter um modelo mais bem treino, afinal, este modelo só será utilizados na base de dados de teste (dftest)"
   ]
  },
  {
   "cell_type": "code",
   "execution_count": 117,
   "metadata": {},
   "outputs": [],
   "source": [
    "x_train, x_test, y_train, y_test = train_test_split(x, y, test_size = 0.99)"
   ]
  },
  {
   "cell_type": "markdown",
   "metadata": {},
   "source": [
    "#### Aplicação do modelo de Random Forest"
   ]
  },
  {
   "cell_type": "code",
   "execution_count": 118,
   "metadata": {},
   "outputs": [
    {
     "data": {
      "text/plain": [
       "RandomForestRegressor(bootstrap=True, criterion='mse', max_depth=None,\n",
       "                      max_features='auto', max_leaf_nodes=None,\n",
       "                      min_impurity_decrease=0.0, min_impurity_split=None,\n",
       "                      min_samples_leaf=1, min_samples_split=2,\n",
       "                      min_weight_fraction_leaf=0.0, n_estimators=100,\n",
       "                      n_jobs=None, oob_score=False, random_state=None,\n",
       "                      verbose=0, warm_start=False)"
      ]
     },
     "execution_count": 118,
     "metadata": {},
     "output_type": "execute_result"
    }
   ],
   "source": [
    "random_forest = RandomForestRegressor(n_estimators = 100)\n",
    "random_forest.fit(x_train, y_train)"
   ]
  },
  {
   "cell_type": "markdown",
   "metadata": {},
   "source": [
    "#### Atribuindo à variável Xres as variáveis da base de dados de teste"
   ]
  },
  {
   "cell_type": "code",
   "execution_count": 119,
   "metadata": {},
   "outputs": [],
   "source": [
    "Xres = dftest[['NU_NOTA_CN', 'NU_NOTA_CH', 'NU_NOTA_LC', 'NU_NOTA_REDACAO']].fillna(-1000)"
   ]
  },
  {
   "cell_type": "markdown",
   "metadata": {},
   "source": [
    "#### Fazendo o \"fit\" dos dados"
   ]
  },
  {
   "cell_type": "code",
   "execution_count": 120,
   "metadata": {},
   "outputs": [
    {
     "data": {
      "text/plain": [
       "RandomForestRegressor(bootstrap=True, criterion='mse', max_depth=None,\n",
       "                      max_features='auto', max_leaf_nodes=None,\n",
       "                      min_impurity_decrease=0.0, min_impurity_split=None,\n",
       "                      min_samples_leaf=1, min_samples_split=2,\n",
       "                      min_weight_fraction_leaf=0.0, n_estimators=100,\n",
       "                      n_jobs=None, oob_score=False, random_state=None,\n",
       "                      verbose=0, warm_start=False)"
      ]
     },
     "execution_count": 120,
     "metadata": {},
     "output_type": "execute_result"
    }
   ],
   "source": [
    "random_forest = RandomForestRegressor(n_estimators = 100)\n",
    "random_forest.fit(x, y)"
   ]
  },
  {
   "cell_type": "markdown",
   "metadata": {},
   "source": [
    "#### Predizendo os valores da nota de matemática com base na variável Xres que possui todas as variáveis usadas para predição"
   ]
  },
  {
   "cell_type": "code",
   "execution_count": 121,
   "metadata": {},
   "outputs": [],
   "source": [
    "Yres = random_forest.predict(Xres)"
   ]
  },
  {
   "cell_type": "markdown",
   "metadata": {},
   "source": [
    "##### A predição atribui valores negativos a certas notas com as variáveis Xres, isso se deve, por exemplo, às notas que são zeradas pelos alunos e o modelo prediz a nota de matemática como negativa. Para isso, foram atribuídas notas também zeradas para matemática, uma vez que não existe nota negativa para este caso"
   ]
  },
  {
   "cell_type": "code",
   "execution_count": 122,
   "metadata": {},
   "outputs": [],
   "source": [
    "Yres[Yres < 0] = 0"
   ]
  },
  {
   "cell_type": "markdown",
   "metadata": {},
   "source": [
    "#### Arredondando valores"
   ]
  },
  {
   "cell_type": "code",
   "execution_count": 123,
   "metadata": {},
   "outputs": [],
   "source": [
    "dftest['NU_NOTA_MT'] = np.around(Yres, 2)"
   ]
  },
  {
   "cell_type": "markdown",
   "metadata": {},
   "source": [
    "#### Atribuindos as notas de matemática à base de dados de teste"
   ]
  },
  {
   "cell_type": "code",
   "execution_count": 124,
   "metadata": {},
   "outputs": [],
   "source": [
    "dftest = dftest[['NU_INSCRICAO','NU_NOTA_MT']]"
   ]
  },
  {
   "cell_type": "markdown",
   "metadata": {},
   "source": [
    "#### Transformando a base de dados em um arquivo .csv"
   ]
  },
  {
   "cell_type": "code",
   "execution_count": 125,
   "metadata": {},
   "outputs": [],
   "source": [
    "dftest.to_csv('answer.csv', index=False)"
   ]
  }
 ],
 "metadata": {
  "kernelspec": {
   "display_name": "Python 3",
   "language": "python",
   "name": "python3"
  },
  "language_info": {
   "codemirror_mode": {
    "name": "ipython",
    "version": 3
   },
   "file_extension": ".py",
   "mimetype": "text/x-python",
   "name": "python",
   "nbconvert_exporter": "python",
   "pygments_lexer": "ipython3",
   "version": "3.7.4"
  }
 },
 "nbformat": 4,
 "nbformat_minor": 4
}
