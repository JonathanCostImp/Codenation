{
 "cells": [
  {
   "cell_type": "code",
   "execution_count": 202,
   "metadata": {},
   "outputs": [],
   "source": [
    "import pandas as pd\n",
    "import matplotlib.pyplot as plt\n",
    "import numpy as np\n",
    "import scipy.stats as stats\n",
    "import sklearn\n",
    "import seaborn as sns\n",
    "import warnings\n",
    "from sklearn import metrics\n",
    "warnings.filterwarnings('ignore')"
   ]
  },
  {
   "cell_type": "code",
   "execution_count": 203,
   "metadata": {},
   "outputs": [],
   "source": [
    "math_train = pd.read_csv('train.csv')"
   ]
  },
  {
   "cell_type": "code",
   "execution_count": 204,
   "metadata": {},
   "outputs": [],
   "source": [
    "media1 = math_train['NU_NOTA_CN'].mean()\n",
    "media2 = math_train['NU_NOTA_CH'].mean()\n",
    "media3 = math_train['NU_NOTA_LC'].mean()\n",
    "media4 = math_train['NU_NOTA_MT'].mean()\n",
    "media5 = math_train['NU_NOTA_REDACAO'].mean()\n",
    "\n",
    "math_train.update(math_train['NU_NOTA_CN'].fillna(media1))\n",
    "math_train.update(math_train['NU_NOTA_CH'].fillna(media2))\n",
    "math_train.update(math_train['NU_NOTA_LC'].fillna(media3))\n",
    "math_train.update(math_train['NU_NOTA_MT'].fillna(media4))\n",
    "math_train.update(math_train['NU_NOTA_REDACAO'].fillna(media5))"
   ]
  },
  {
   "cell_type": "code",
   "execution_count": 205,
   "metadata": {},
   "outputs": [],
   "source": [
    "x = math_train[['NU_NOTA_CN','NU_NOTA_CH', 'NU_NOTA_LC', 'NU_NOTA_REDACAO']]\n",
    "y = math_train['NU_NOTA_MT']"
   ]
  },
  {
   "cell_type": "code",
   "execution_count": 206,
   "metadata": {},
   "outputs": [],
   "source": [
    "from sklearn.model_selection import train_test_split\n",
    "x_train, x_test, y_train, y_test = train_test_split(x, y, test_size = 0.5)"
   ]
  },
  {
   "cell_type": "code",
   "execution_count": 207,
   "metadata": {},
   "outputs": [
    {
     "data": {
      "text/plain": [
       "LinearRegression(copy_X=True, fit_intercept=True, n_jobs=None, normalize=False)"
      ]
     },
     "execution_count": 207,
     "metadata": {},
     "output_type": "execute_result"
    }
   ],
   "source": [
    "from sklearn.linear_model import LinearRegression\n",
    "reglin = LinearRegression()\n",
    "reglin.fit(x_train, y_train)"
   ]
  },
  {
   "cell_type": "code",
   "execution_count": 208,
   "metadata": {},
   "outputs": [],
   "source": [
    "y_prev = reglin.predict(x_test) #207"
   ]
  },
  {
   "cell_type": "code",
   "execution_count": 209,
   "metadata": {},
   "outputs": [
    {
     "name": "stdout",
     "output_type": "stream",
     "text": [
      "66.1342459785183\n"
     ]
    }
   ],
   "source": [
    "#RMSE\n",
    "print(np.sqrt(metrics.mean_squared_error(y_test, y_prev)))"
   ]
  },
  {
   "cell_type": "code",
   "execution_count": 210,
   "metadata": {},
   "outputs": [],
   "source": [
    "math_test = pd.read_csv('test.csv')"
   ]
  },
  {
   "cell_type": "code",
   "execution_count": 211,
   "metadata": {},
   "outputs": [],
   "source": [
    "media6 = math_test['NU_NOTA_CN'].mean()\n",
    "media7 = math_test['NU_NOTA_CH'].mean()\n",
    "media8 = math_test['NU_NOTA_LC'].mean()\n",
    "media9 = math_test['NU_NOTA_REDACAO'].mean()\n",
    "\n",
    "math_test.update(math_test['NU_NOTA_CN'].fillna(media6))\n",
    "math_test.update(math_test['NU_NOTA_CH'].fillna(media7))\n",
    "math_test.update(math_test['NU_NOTA_LC'].fillna(media8))\n",
    "math_test.update(math_test['NU_NOTA_REDACAO'].fillna(media9))"
   ]
  },
  {
   "cell_type": "code",
   "execution_count": 212,
   "metadata": {},
   "outputs": [],
   "source": [
    "features_train = ['NU_NOTA_CN', 'NU_NOTA_CH', 'NU_NOTA_LC', 'NU_NOTA_REDACAO']\n",
    "math_test[features_train]\n",
    "y_prev = reglin.predict(math_test[features_train])\n",
    "math_test['NU_NOTA_MT'] = y_prev"
   ]
  },
  {
   "cell_type": "code",
   "execution_count": 213,
   "metadata": {},
   "outputs": [],
   "source": [
    "answer = pd.DataFrame()\n",
    "answer ['NU_INSCRICAO'] = math_test.NU_INSCRICAO\n",
    "answer ['NU_NOTA_MT'] = y_prev\n",
    "answer.to_csv(r'C:\\Users\\Jonathan\\Desktop\\answer.csv', index = False)\n",
    "\n",
    "#answer = pd.DataFrame([math_test['NU_INSCRICAO'], math_test['NU_NOTA_MT']])"
   ]
  },
  {
   "cell_type": "code",
   "execution_count": null,
   "metadata": {},
   "outputs": [],
   "source": []
  }
 ],
 "metadata": {
  "kernelspec": {
   "display_name": "Python 3",
   "language": "python",
   "name": "python3"
  },
  "language_info": {
   "codemirror_mode": {
    "name": "ipython",
    "version": 3
   },
   "file_extension": ".py",
   "mimetype": "text/x-python",
   "name": "python",
   "nbconvert_exporter": "python",
   "pygments_lexer": "ipython3",
   "version": "3.7.4"
  }
 },
 "nbformat": 4,
 "nbformat_minor": 2
}
